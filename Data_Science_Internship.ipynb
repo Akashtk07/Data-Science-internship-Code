{
  "nbformat": 4,
  "nbformat_minor": 0,
  "metadata": {
    "colab": {
      "private_outputs": true,
      "provenance": []
    },
    "kernelspec": {
      "name": "python3",
      "display_name": "Python 3"
    },
    "language_info": {
      "name": "python"
    }
  },
  "cells": [
    {
      "cell_type": "markdown",
      "source": [
        "# **Name**:Akash Tanaji kshirasagar\n",
        "# **mailID**:aakashkshirsagar2000@gmail.com\n",
        "# **phone_Num**:7517913910"
      ],
      "metadata": {
        "id": "XOc0APIteG5M"
      }
    },
    {
      "cell_type": "markdown",
      "source": [
        "## **What is the shape of \"ratings.csv\"?**"
      ],
      "metadata": {
        "id": "z1CxdxlEMx_X"
      }
    },
    {
      "cell_type": "markdown",
      "source": [
        "# **What is the shape of \"movies.csv\"**"
      ],
      "metadata": {
        "id": "vbbbtGctL7dQ"
      }
    },
    {
      "cell_type": "code",
      "source": [
        "import pandas as pd\n",
        "df= pd.read_csv('/content/movies.csv')"
      ],
      "metadata": {
        "id": "pMfygPUCMFPg"
      },
      "execution_count": null,
      "outputs": []
    },
    {
      "cell_type": "code",
      "source": [
        "df.shape"
      ],
      "metadata": {
        "id": "qA_N-K-tMsw3"
      },
      "execution_count": null,
      "outputs": []
    },
    {
      "cell_type": "code",
      "source": [
        "df1= pd.read_csv('/content/ratings.csv')"
      ],
      "metadata": {
        "id": "tmHyany3M7hT"
      },
      "execution_count": null,
      "outputs": []
    },
    {
      "cell_type": "code",
      "source": [
        "df1.shape"
      ],
      "metadata": {
        "id": "78n0fG_DNbrL"
      },
      "execution_count": null,
      "outputs": []
    },
    {
      "cell_type": "markdown",
      "source": [
        "### How many unique \"userId\" are available in \"ratings.csv\"**bold text**"
      ],
      "metadata": {
        "id": "uCuNEeYVNhBc"
      }
    },
    {
      "cell_type": "code",
      "source": [
        "df1['userId'].nunique()"
      ],
      "metadata": {
        "id": "Uh0HJgdMNyiO"
      },
      "execution_count": null,
      "outputs": []
    },
    {
      "cell_type": "markdown",
      "source": [
        "# Which movie has recieved maximum number of user ratings?\n",
        "\n"
      ],
      "metadata": {
        "id": "hfBVtH47ODI4"
      }
    },
    {
      "cell_type": "code",
      "source": [
        "df1['movieId'].value_counts().idxmax()\n",
        "df[df['movieId'] == 356]"
      ],
      "metadata": {
        "id": "KVrPWsESON2p"
      },
      "execution_count": null,
      "outputs": []
    },
    {
      "cell_type": "markdown",
      "source": [
        "# Select all the correct tags submitted by users to \"Matrix, The (1999)\" movie?"
      ],
      "metadata": {
        "id": "mAY1oQ7fOvMA"
      }
    },
    {
      "cell_type": "code",
      "source": [
        "df2 =pd.read_csv('/content/tags.csv')"
      ],
      "metadata": {
        "id": "_1-5mm46PE6_"
      },
      "execution_count": null,
      "outputs": []
    },
    {
      "cell_type": "code",
      "source": [
        "df2[df2['movieId'] == 2571]['tag'].unique()"
      ],
      "metadata": {
        "id": "a7feKqhtP9S3"
      },
      "execution_count": null,
      "outputs": []
    },
    {
      "cell_type": "markdown",
      "source": [
        "# What is the average user rating for movie named \"Terminator 2: Judgment Day (1991)\"?"
      ],
      "metadata": {
        "id": "Ai63f1qeQROL"
      }
    },
    {
      "cell_type": "code",
      "source": [
        "df1[df1['movieId'] == 589]['rating'].mean()"
      ],
      "metadata": {
        "id": "fUBK1yqBQYid"
      },
      "execution_count": null,
      "outputs": []
    },
    {
      "cell_type": "markdown",
      "source": [
        "# How does the data distribution of user ratings for \"Fight Club (1999)\" movie looks like?"
      ],
      "metadata": {
        "id": "Y0dVm8WJQtrl"
      }
    },
    {
      "cell_type": "code",
      "source": [
        "import matplotlib.pyplot as plt\n",
        "\n",
        "# Filter ratings for the movie 'Fight Club (1999)'\n",
        "fight_club_ratings = df1[df1['movieId'] == 2959]['rating']\n",
        "\n",
        "# Plot the distribution of user ratings\n",
        "plt.hist(fight_club_ratings, bins=5, color='skyblue', edgecolor='black')\n",
        "plt.title('User Ratings Distribution for Fight Club (1999)')\n",
        "plt.xlabel('Rating')\n",
        "plt.ylabel('Frequency')\n",
        "plt.show()"
      ],
      "metadata": {
        "id": "oWmBJ5dzQu3v"
      },
      "execution_count": null,
      "outputs": []
    },
    {
      "cell_type": "markdown",
      "source": [
        "# Which movie is the most popular based on  average user ratings?\n"
      ],
      "metadata": {
        "id": "6hGJNJ3yRVJl"
      }
    },
    {
      "cell_type": "code",
      "source": [
        "# Group the user ratings based on movieId and apply aggregation operations like count and mean on ratings\n",
        "ratings_grouped = df1.groupby('movieId').agg({'rating': ['count', 'mean']})\n",
        "ratings_grouped.columns = ['rating_count', 'rating_mean']\n",
        "\n",
        "# Apply inner join on dataframe created from movies.csv and the grouped df from step 1\n",
        "merged_df = pd.merge(df, ratings_grouped, on='movieId', how='inner')\n",
        "\n",
        "# Filter only those movies which have more than 50 user ratings\n",
        "filtered_df = merged_df[merged_df['rating_count'] > 50]\n",
        "filtered_df.head()"
      ],
      "metadata": {
        "id": "HpZK1NUYRhnd"
      },
      "execution_count": null,
      "outputs": []
    },
    {
      "cell_type": "code",
      "source": [
        "filtered_df[filtered_df['rating_mean'] == filtered_df['rating_mean'].max()]"
      ],
      "metadata": {
        "id": "DcOEmdF9SBsp"
      },
      "execution_count": null,
      "outputs": []
    },
    {
      "cell_type": "markdown",
      "source": [
        "# Select all the correct options which comes under top 5 popular movies based on number of user ratings."
      ],
      "metadata": {
        "id": "v98DHRVdSMRj"
      }
    },
    {
      "cell_type": "code",
      "source": [
        "filtered_df.nlargest(5, 'rating_count')[['title', 'rating_count', 'rating_mean']]"
      ],
      "metadata": {
        "id": "GNahByYvSgvl"
      },
      "execution_count": null,
      "outputs": []
    },
    {
      "cell_type": "markdown",
      "source": [
        "# Which Sci-Fi movie is \"third most popular\" based on the number of user ratings?"
      ],
      "metadata": {
        "id": "6OtTJO9IWnPz"
      }
    },
    {
      "cell_type": "code",
      "source": [
        "filtered_df[filtered_df['genres'].str.contains('Sci-Fi')].nlargest(3, 'rating_count')[['title', 'rating_count', 'rating_mean']]\n"
      ],
      "metadata": {
        "id": "yyNbTUVuWo17"
      },
      "execution_count": null,
      "outputs": []
    },
    {
      "cell_type": "markdown",
      "source": [],
      "metadata": {
        "id": "cqUvYp1HX_tP"
      }
    },
    {
      "cell_type": "code",
      "source": [
        "df3= pd.read_csv('/content/links.csv')"
      ],
      "metadata": {
        "id": "V-LGy-bRX-0-"
      },
      "execution_count": null,
      "outputs": []
    },
    {
      "cell_type": "code",
      "source": [
        "df3.head()"
      ],
      "metadata": {
        "id": "xnQw7C2dZvUX"
      },
      "execution_count": null,
      "outputs": []
    },
    {
      "cell_type": "markdown",
      "source": [
        "# Mention the movieId of the movie which has the highest IMDB rating"
      ],
      "metadata": {
        "id": "J2l1V2j-dcfJ"
      }
    },
    {
      "cell_type": "code",
      "source": [
        "highest_rating_movie_id = df3.loc[df3['imdbId'].idxmax(), 'movieId']\n",
        "highest_rating_movie_id"
      ],
      "metadata": {
        "id": "yt_1o_2bZ5ef"
      },
      "execution_count": null,
      "outputs": []
    },
    {
      "cell_type": "markdown",
      "source": [
        "# Mention the movieId of the \"Sci-Fi\" movie which has the highest IMDB rating."
      ],
      "metadata": {
        "id": "Vvgc4tpEdhNZ"
      }
    },
    {
      "cell_type": "code",
      "source": [
        "# Merge the movies and links dataframes on movieId\n",
        "merged_df = pd.merge(df, df3, on='movieId')\n",
        "\n",
        "# Filter the merged dataframe for movies with the genre 'Sci-Fi'\n",
        "scifi_movies = merged_df[merged_df['genres'].str.contains('Sci-Fi', case=False)]\n",
        "\n",
        "# Display the movie with the highest IMDB rating among the Sci-Fi movies\n",
        "scifi_movies.loc[scifi_movies['imdbId'].idxmax()]"
      ],
      "metadata": {
        "id": "MxuQOutUczQL"
      },
      "execution_count": null,
      "outputs": []
    }
  ]
}